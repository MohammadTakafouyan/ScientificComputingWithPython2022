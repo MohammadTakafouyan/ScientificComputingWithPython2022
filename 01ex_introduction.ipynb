{
  "nbformat": 4,
  "nbformat_minor": 0,
  "metadata": {
    "colab": {
      "provenance": [],
      "collapsed_sections": []
    },
    "kernelspec": {
      "name": "python3",
      "display_name": "Python 3"
    },
    "language_info": {
      "name": "python"
    }
  },
  "cells": [
    {
      "cell_type": "code",
      "execution_count": 1,
      "metadata": {
        "id": "hMuKBriZsVYJ",
        "colab": {
          "base_uri": "https://localhost:8080/"
        },
        "outputId": "6cc190b8-a23b-4f1d-e157-9e61454fa07b"
      },
      "outputs": [
        {
          "output_type": "stream",
          "name": "stdout",
          "text": [
            "1\n",
            "\n",
            "2\n",
            "\n",
            "3\n",
            "Hello\n",
            "4\n",
            "\n",
            "5\n",
            "World\n",
            "6\n",
            "Hello\n",
            "7\n",
            "\n",
            "8\n",
            "\n",
            "9\n",
            "Hello\n",
            "10\n",
            "World\n",
            "11\n",
            "\n",
            "12\n",
            "Hello\n",
            "13\n",
            "\n",
            "14\n",
            "\n",
            "15\n",
            "HelloWorld\n",
            "16\n",
            "\n",
            "17\n",
            "\n",
            "18\n",
            "Hello\n",
            "19\n",
            "\n",
            "20\n",
            "World\n",
            "21\n",
            "Hello\n",
            "22\n",
            "\n",
            "23\n",
            "\n",
            "24\n",
            "Hello\n",
            "25\n",
            "World\n",
            "26\n",
            "\n",
            "27\n",
            "Hello\n",
            "28\n",
            "\n",
            "29\n",
            "\n",
            "30\n",
            "HelloWorld\n",
            "31\n",
            "\n",
            "32\n",
            "\n",
            "33\n",
            "Hello\n",
            "34\n",
            "\n",
            "35\n",
            "World\n",
            "36\n",
            "Hello\n",
            "37\n",
            "\n",
            "38\n",
            "\n",
            "39\n",
            "Hello\n",
            "40\n",
            "World\n",
            "41\n",
            "\n",
            "42\n",
            "Hello\n",
            "43\n",
            "\n",
            "44\n",
            "\n",
            "45\n",
            "HelloWorld\n",
            "46\n",
            "\n",
            "47\n",
            "\n",
            "48\n",
            "Hello\n",
            "49\n",
            "\n",
            "50\n",
            "World\n",
            "51\n",
            "Hello\n",
            "52\n",
            "\n",
            "53\n",
            "\n",
            "54\n",
            "Hello\n",
            "55\n",
            "World\n",
            "56\n",
            "\n",
            "57\n",
            "Hello\n",
            "58\n",
            "\n",
            "59\n",
            "\n",
            "60\n",
            "HelloWorld\n",
            "61\n",
            "\n",
            "62\n",
            "\n",
            "63\n",
            "Hello\n",
            "64\n",
            "\n",
            "65\n",
            "World\n",
            "66\n",
            "Hello\n",
            "67\n",
            "\n",
            "68\n",
            "\n",
            "69\n",
            "Hello\n",
            "70\n",
            "World\n",
            "71\n",
            "\n",
            "72\n",
            "Hello\n",
            "73\n",
            "\n",
            "74\n",
            "\n",
            "75\n",
            "HelloWorld\n",
            "76\n",
            "\n",
            "77\n",
            "\n",
            "78\n",
            "Hello\n",
            "79\n",
            "\n",
            "80\n",
            "World\n",
            "81\n",
            "Hello\n",
            "82\n",
            "\n",
            "83\n",
            "\n",
            "84\n",
            "Hello\n",
            "85\n",
            "World\n",
            "86\n",
            "\n",
            "87\n",
            "Hello\n",
            "88\n",
            "\n",
            "89\n",
            "\n",
            "90\n",
            "HelloWorld\n",
            "91\n",
            "\n",
            "92\n",
            "\n",
            "93\n",
            "Hello\n",
            "94\n",
            "\n",
            "95\n",
            "World\n",
            "96\n",
            "Hello\n",
            "97\n",
            "\n",
            "98\n",
            "\n",
            "99\n",
            "Hello\n",
            "100\n",
            "World\n",
            "[(3, 'Python'), (5, 'Works'), (6, 'Python'), (9, 'Python'), (10, 'Works'), (12, 'Python'), (15, 'PythonWorks'), (18, 'Python'), (20, 'Works'), (21, 'Python'), (24, 'Python'), (25, 'Works'), (27, 'Python'), (30, 'PythonWorks'), (33, 'Python'), (35, 'Works'), (36, 'Python'), (39, 'Python'), (40, 'Works'), (42, 'Python'), (45, 'PythonWorks'), (48, 'Python'), (50, 'Works'), (51, 'Python'), (54, 'Python'), (55, 'Works'), (57, 'Python'), (60, 'PythonWorks'), (63, 'Python'), (65, 'Works'), (66, 'Python'), (69, 'Python'), (70, 'Works'), (72, 'Python'), (75, 'PythonWorks'), (78, 'Python'), (80, 'Works'), (81, 'Python'), (84, 'Python'), (85, 'Works'), (87, 'Python'), (90, 'PythonWorks'), (93, 'Python'), (95, 'Works'), (96, 'Python'), (99, 'Python'), (100, 'Works')]\n"
          ]
        }
      ],
      "source": [
        "# Number 1: The HelloWorld replacement Exercise\n",
        "\n",
        "results = []\n",
        "for i in range (1,101):\n",
        "    print(i)\n",
        "    res = \"\"\n",
        "    if i % 3 == 0 and i % 5 == 0:\n",
        "        res = \"HelloWorld\"\n",
        "        results.append((i,res))\n",
        "    elif i % 3 == 0:\n",
        "        res = \"Hello\"\n",
        "        results.append((i,res))\n",
        "    elif i % 5 == 0:\n",
        "        res = \"World\"\n",
        "        results.append((i,res))\n",
        "    print(res)\n",
        "\n",
        "counter = 0\n",
        "for i in results:\n",
        "    if \"Hello\" in i[1]:\n",
        "        list_i = list(i)      \n",
        "        list_i[1] = list_i[1].replace('Hello', 'Python')\n",
        "        i = tuple(list_i)\n",
        "        results[counter] = i\n",
        "\n",
        "    if \"World\" in i[1]:\n",
        "        list_i = list(i)       \n",
        "        list_i[1] = list_i[1].replace('World', 'Works')\n",
        "        i = tuple(list_i)\n",
        "        results[counter] = i\n",
        "\n",
        "    counter = counter + 1\n",
        "\n",
        "print(results)  "
      ]
    },
    {
      "cell_type": "code",
      "source": [
        "#Number 2: The Swap Exercise\n",
        "\n",
        "\n",
        "x = input(\"Enter x: \")\n",
        "y = input(\"Enter y: \")\n",
        "\n",
        "x, y = y, x\n",
        "print(\"x: \"+ str(x))\n",
        "print(\"y: \"+ str(y))"
      ],
      "metadata": {
        "id": "9vqZFxhcs9-i",
        "colab": {
          "base_uri": "https://localhost:8080/"
        },
        "outputId": "7be5f55b-f770-40c2-a82e-caa8a1937be7"
      },
      "execution_count": 2,
      "outputs": [
        {
          "output_type": "stream",
          "name": "stdout",
          "text": [
            "Enter x: salam\n",
            "Enter y: arabi\n",
            "x: arabi\n",
            "y: salam\n"
          ]
        }
      ]
    },
    {
      "cell_type": "code",
      "source": [
        "#Number 3: Computing The Distance Exercise\n",
        "\n",
        "import math\n",
        "\n",
        "values1 = input(\"Input x and y positions of the first point by using a comma (,) : \")\n",
        "list1 = values1.split(\",\")\n",
        "point1 = tuple(list1)\n",
        "values2 = input(\"Input x and y positions of the first point by using a comma (,) : \")\n",
        "list2 = values2.split(\",\")\n",
        "point2 = tuple(list2)\n",
        "\n",
        "euclidean_distance = math.sqrt(math.pow(int(list1[0])-int(list2[0]), 2) + math.pow(int(list1[1])-int(list2[1]), 2))\n",
        "print(\"Euclidean distance: \" + str(euclidean_distance))"
      ],
      "metadata": {
        "id": "8ew5UhQ8tOzb",
        "colab": {
          "base_uri": "https://localhost:8080/"
        },
        "outputId": "013f99c4-17b8-40e3-eaab-97c5ad99b76c"
      },
      "execution_count": 3,
      "outputs": [
        {
          "output_type": "stream",
          "name": "stdout",
          "text": [
            "Input x and y coordinates of the first point by separating comma (,) : 2,4\n",
            "Input x and y coordinates of the second point by separating comma (,) : 5,1\n",
            "Euclidean distance: 4.242640687119285\n"
          ]
        }
      ]
    },
    {
      "cell_type": "code",
      "source": [
        "#Number 4: Counting Letters Exercise\n",
        "\n",
        "input_string = input(\"Please enter the string: \")\n",
        "lower_input_string = input_string.lower()\n",
        "\n",
        "result = {}\n",
        "\n",
        "for i in input_string:\n",
        "    if i not in result:\n",
        "        result[i] = 1\n",
        "    else:\n",
        "        result[i] = result[i] + 1\n",
        "\n",
        "print(result)"
      ],
      "metadata": {
        "colab": {
          "base_uri": "https://localhost:8080/"
        },
        "id": "R86yVRdTtXCX",
        "outputId": "fa7e2bbb-ca37-4dca-8e0c-b3f849ac6c93"
      },
      "execution_count": 5,
      "outputs": [
        {
          "output_type": "stream",
          "name": "stdout",
          "text": [
            "Please enter the string: erwrew\n",
            "{'e': 2, 'r': 2, 'w': 2}\n"
          ]
        }
      ]
    },
    {
      "cell_type": "code",
      "source": [
        "#Number 5: Isolating The Unique Exercise\n",
        "\n",
        "l = [36, 45, 58, 3, 74, 96, 64, 45, 31, 10, 24, 19, 33, 86, 99, 18, 63, 70, 85,\n",
        " 85, 63, 47, 56, 42, 70, 84, 88, 55, 20, 54, 8, 56, 51, 79, 81, 57, 37, 91,\n",
        " 1, 84, 84, 36, 66, 9, 89, 50, 42, 91, 50, 95, 90, 98, 39, 16, 82, 31, 92, 41,\n",
        " 45, 30, 66, 70, 34, 85, 94, 5, 3, 36, 72, 91, 84, 34, 87, 75, 53, 51, 20, 89, 51, 20]\n",
        "uni = []\n",
        "counter = 0\n",
        "for i in range(len(l)):\n",
        "    flag = 0\n",
        "    for j in range(len(l)):\n",
        "        if l[i]== l[j] and i != j:\n",
        "            flag = 1\n",
        "            break\n",
        "    if not flag:\n",
        "        uni.append(l[i])\n",
        "        counter = counter + 1\n",
        "\n",
        "print(str(counter)+\" Numbers that are unique: \")\n",
        "print(uni)"
      ],
      "metadata": {
        "colab": {
          "base_uri": "https://localhost:8080/"
        },
        "id": "TguDg1-WtjIG",
        "outputId": "f204068d-4017-475e-a9fb-1b94aa490d5e"
      },
      "execution_count": 6,
      "outputs": [
        {
          "output_type": "stream",
          "name": "stdout",
          "text": [
            "37 Numbers that are unique: \n",
            "[58, 74, 96, 64, 10, 24, 19, 33, 86, 99, 18, 47, 88, 55, 54, 8, 79, 81, 57, 37, 1, 9, 95, 90, 98, 39, 16, 82, 92, 41, 30, 94, 5, 72, 87, 75, 53]\n"
          ]
        }
      ]
    },
    {
      "cell_type": "code",
      "source": [
        "#Number 6: Casting Exercise\n",
        "\n",
        "x = input(\"Please Specify The First Variable: \")\n",
        "y = input(\"Please Specify The Second Variable: \")\n",
        "\n",
        "try: \n",
        "    res = float(x) + float(y)\n",
        "    print(\"Float Result: \" + str(res))\n",
        "    print(\"Integer Result: \" + str(int(res)))\n",
        "\n",
        "except:\n",
        "    print(\"There is no number you entered\")"
      ],
      "metadata": {
        "colab": {
          "base_uri": "https://localhost:8080/"
        },
        "id": "gFrOlV_KtsEv",
        "outputId": "f3f91ed5-6ff8-403f-a33d-0dc7f79181f7"
      },
      "execution_count": 9,
      "outputs": [
        {
          "output_type": "stream",
          "name": "stdout",
          "text": [
            "Please Specify The First Variable: 6\n",
            "Please Specify The Second Variable: 9\n",
            "Float Result: 15.0\n",
            "Integer Result: 15\n"
          ]
        }
      ]
    },
    {
      "cell_type": "code",
      "source": [
        "#Number 7: Cubes Exercise\n",
        "\n",
        "import math\n",
        "\n",
        "#Part A:\n",
        "cube = []\n",
        "for i in range(0, 11):\n",
        "    cube.append(math.pow(i,3))\n",
        "\n",
        "print(cube)\n",
        "\n",
        "#Part B:\n",
        "cube2 = []\n",
        "[cube2.append(math.pow(x,3)) for x in range(0,11)]\n",
        "\n",
        "print(cube2)"
      ],
      "metadata": {
        "colab": {
          "base_uri": "https://localhost:8080/"
        },
        "id": "6yUSVbXEt0tX",
        "outputId": "9cb06f7b-eb11-4369-a993-d00be31e1af1"
      },
      "execution_count": 14,
      "outputs": [
        {
          "output_type": "stream",
          "name": "stdout",
          "text": [
            "[0.0, 1.0, 8.0, 27.0, 64.0, 125.0, 216.0, 343.0, 512.0, 729.0, 1000.0]\n",
            "[0.0, 1.0, 8.0, 27.0, 64.0, 125.0, 216.0, 343.0, 512.0, 729.0, 1000.0]\n"
          ]
        }
      ]
    },
    {
      "cell_type": "code",
      "source": [
        "#Number 8: List Comprehension Exercise\n",
        "\n",
        "# a = []\n",
        "# for i in range(3):\n",
        "#     for j in range(4):\n",
        "#         a.append((i, j))\n",
        "# print(a)\n",
        "\n",
        "\n",
        "a = []\n",
        "[a.append((i,j)) for i in range(3) for j in range(4)]\n",
        "\n",
        "print(a)"
      ],
      "metadata": {
        "colab": {
          "base_uri": "https://localhost:8080/"
        },
        "id": "X_UmFfbGt845",
        "outputId": "182a7430-4303-4ffe-9216-2f3b1f4f16d8"
      },
      "execution_count": 15,
      "outputs": [
        {
          "output_type": "stream",
          "name": "stdout",
          "text": [
            "[(0, 0), (0, 1), (0, 2), (0, 3), (1, 0), (1, 1), (1, 2), (1, 3), (2, 0), (2, 1), (2, 2), (2, 3)]\n"
          ]
        }
      ]
    },
    {
      "cell_type": "code",
      "source": [
        "#Number 9: Nested list comprehension Exercise\n",
        "\n",
        "import math \n",
        "\n",
        "c = 1\n",
        "pythagorean_triples = []\n",
        "while c < 100:\n",
        "    for i in range (1,10):\n",
        "        for j in range (1,10):\n",
        "            if math.pow(i,2) + math.pow(j,2) == math.pow(c,2):\n",
        "                pythagorean_triples.append([i,j,c])\n",
        "    c = c+1\n",
        "\n",
        "print(pythagorean_triples)"
      ],
      "metadata": {
        "colab": {
          "base_uri": "https://localhost:8080/"
        },
        "id": "3ooYoF18uHZw",
        "outputId": "0655fe70-4978-4438-956f-35969847c668"
      },
      "execution_count": 1,
      "outputs": [
        {
          "output_type": "stream",
          "name": "stdout",
          "text": [
            "[[3, 4, 5], [4, 3, 5], [6, 8, 10], [8, 6, 10]]\n"
          ]
        }
      ]
    },
    {
      "cell_type": "code",
      "source": [
        "#Number 10: Normalization Of a N-Dimensional Vector Exercise\n",
        "\n",
        "import math\n",
        "\n",
        "def norm(tuple_v): \n",
        "    counter = 0 \n",
        "    list_tuple = list(tuple_v)\n",
        "    squared_sum = 0 \n",
        "    for i in list_tuple:      \n",
        "        squared_sum += int(i)**2\n",
        "    sqrt_squared_sum = math.sqrt(squared_sum)\n",
        "    for j in list_tuple:\n",
        "        j = int(j) / sqrt_squared_sum\n",
        "        list_tuple[counter] = j\n",
        "        counter = counter + 1\n",
        "    return tuple(list_tuple)\n",
        "\n",
        "vector = input(\"The input tuples should be separated by commas (,): \")\n",
        "new_vector = []\n",
        "list_vector_str = vector.split(\",\")\n",
        "print(list_vector_str)\n",
        "if len(list_vector_str) >= 2:\n",
        "    for i in range(0, len(list_vector_str)):\n",
        "        new_list = list_vector_str[i].replace(' ', '') \n",
        "        tuple_v = tuple(new_list)\n",
        "        new_vector.append(tuple_v)\n",
        "\n",
        "new_vector_norm = []\n",
        "for i in new_vector:\n",
        "    new_vector_norm.append(norm(i))\n",
        "\n",
        "print(new_vector_norm)"
      ],
      "metadata": {
        "colab": {
          "base_uri": "https://localhost:8080/"
        },
        "id": "qMaARZBeuOnR",
        "outputId": "93ae4d2c-d9c3-4b65-8e9b-eb7c9c4d66ce"
      },
      "execution_count": 12,
      "outputs": [
        {
          "output_type": "stream",
          "name": "stdout",
          "text": [
            "The input tuples should be separated by commas (,): \n",
            "['']\n",
            "[]\n"
          ]
        }
      ]
    },
    {
      "cell_type": "code",
      "source": [
        "#Number 11: The Fibonacci Sequence Exercise\n",
        "\n",
        "def Fibonacci (n):\n",
        "    m = [1,1]\n",
        "    k = 2\n",
        "    while k <= n:\n",
        "        m.append(m[k - 1] + m[k - 2])\n",
        "        k = k + 1\n",
        "    return m\n",
        "\n",
        "print(str(Fibonacci (19)))"
      ],
      "metadata": {
        "colab": {
          "base_uri": "https://localhost:8080/"
        },
        "id": "xlapMx9auSoB",
        "outputId": "2b755e68-116a-4595-cfa1-8514bf351733"
      },
      "execution_count": 10,
      "outputs": [
        {
          "output_type": "stream",
          "name": "stdout",
          "text": [
            "[1, 1, 2, 3, 5, 8, 13, 21, 34, 55, 89, 144, 233, 377, 610, 987, 1597, 2584, 4181, 6765]\n"
          ]
        }
      ]
    }
  ]
}