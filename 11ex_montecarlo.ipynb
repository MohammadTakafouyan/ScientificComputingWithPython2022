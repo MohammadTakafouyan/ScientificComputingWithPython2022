{
  "cells": [
    {
      "cell_type": "markdown",
      "metadata": {
        "id": "uRNh9GuvO16X"
      },
      "source": [
        "1\\. **Radioactive decay chain**\n",
        "\n",
        "${\\rm Tl}^{208}$ decays to ${\\rm Pb}^{208}$ with a half-life $\\tau$ of 3.052 minutes. Suppose to start with a sample of 1000 Thallium atoms and 0 of Lead atoms.\n",
        "\n",
        "* Take steps in time of 1 second and at each time-step decide whether each Tl atom has decayed or not, accordingly to the probability $p(t)=1-2^{-t/\\tau}$. Subtract the total number of Tl atoms that decayed at each step from the Tl sample and add them to the Lead one. Plot the evolution of the two sets as a function of time  \n",
        "* Repeat the exercise by means of the inverse transform method: draw 1000 random numbers from the non-uniform probability distribution $p(t)=2^{-t/\\tau}\\frac{\\ln 2}{\\tau}$ to represent the times of decay of the 1000 Tl atoms. Make a plot showing the number of atoms that have not decayed as a function of time"
      ]
    },
    {
      "cell_type": "code",
      "execution_count": 10,
      "metadata": {
        "id": "9oCGCLLdO16e"
      },
      "outputs": [],
      "source": [
        "import numpy as np\n",
        "import math\n",
        "import matplotlib.pyplot as plt\n",
        "import random\n",
        "from scipy import stats\n"
      ]
    },
    {
      "cell_type": "markdown",
      "metadata": {
        "id": "u-KdrC3aO16g"
      },
      "source": [
        "2\\. **Monte Carlo integration: hit/miss vs mean value method**\n",
        "\n",
        "Consider the function: \n",
        "\n",
        "$$f(x) =\\sin^2{\\left( \\frac{1}{1-x} \\right)}$$\n",
        "\n",
        "* Plot the function and compute the integral of $f(x)$ between 0 and 2 with the hit/miss method. Evaluate the error of your estimate (hint: repeat the integral $N$ times, and from the distribution of the integrals take the mean value and the standard deviation, the latter rescaled by the appropriate factor)\n",
        "* Repeat the integral with the mean value method. Evaluate the error and compare it with the previous one."
      ]
    },
    {
      "cell_type": "code",
      "execution_count": null,
      "metadata": {
        "id": "n-Yqlkf4O16h"
      },
      "outputs": [],
      "source": []
    },
    {
      "cell_type": "markdown",
      "metadata": {
        "id": "gXyVyhR7O16i"
      },
      "source": [
        "3\\. **Monte Carlo integration in high dimension**\n",
        "\n",
        "* Compute the area of a circle of unit radius, by integrating the function:\n",
        "\n",
        "$$\n",
        "f(x,y)=\n",
        "\\left\\{\n",
        "\\begin{array}{ll}\n",
        "      1 & x^2+y^2\\le 1 \\\\\n",
        "      0 & {\\rm elsewhere}\n",
        "\\end{array} \n",
        "\\right.\n",
        "$$\n",
        "\n",
        "* Generalize the result for a 10D sphere."
      ]
    },
    {
      "cell_type": "code",
      "execution_count": 11,
      "metadata": {
        "colab": {
          "base_uri": "https://localhost:8080/"
        },
        "id": "h-kUWN2KO16k",
        "outputId": "cafb541e-4691-4576-e173-8d224dd31d7f"
      },
      "outputs": [
        {
          "output_type": "stream",
          "name": "stdout",
          "text": [
            "integral value: 3.141592653589793\n",
            "estimated integral value: 3.13648\n",
            "integral value: 2.550164039877345\n",
            "estimated integral value: 2.73408\n"
          ]
        }
      ],
      "source": [
        "from random import random\n",
        "\n",
        "N = 100000\n",
        "A = 0\n",
        "for i in range(N):\n",
        "    x = random()\n",
        "    y = random()\n",
        "    if x**2 + y**2 <= 1:\n",
        "        A += 1\n",
        "print('integral value:', math.pi)\n",
        "print('estimated integral value:', (4*A)/N)\n",
        "\n",
        "A = 0\n",
        "x = np.zeros(10)\n",
        "for i in range(N):\n",
        "    for j in range(10):\n",
        "        x[j] = random()\n",
        "    if np.linalg.norm(x) <= 1:\n",
        "        A += 1\n",
        "print('integral value:', math.pi**5/120)\n",
        "print('estimated integral value:', (2**10 *A)/N)"
      ]
    },
    {
      "cell_type": "markdown",
      "metadata": {
        "id": "NN67zTgqO16l"
      },
      "source": [
        "4\\. **Monte Carlo integration with importance sampling** \n",
        "\n",
        "Calculate the value of the integral:\n",
        "\n",
        "$$\n",
        "I=\\int_0^1 \\frac{x^{-1/2}}{e^x+1} dx\n",
        "$$\n",
        "\n",
        "using the importance sampling method with $w(x)=1/\\sqrt{x}$. You should expect a result around 0.84."
      ]
    },
    {
      "cell_type": "code",
      "execution_count": 12,
      "metadata": {
        "colab": {
          "base_uri": "https://localhost:8080/"
        },
        "id": "mT5hxTWfO16m",
        "outputId": "8c088b57-42b8-4963-bc48-1c8f013ca111"
      },
      "outputs": [
        {
          "output_type": "stream",
          "name": "stdout",
          "text": [
            "1.25836763337589\n"
          ]
        }
      ],
      "source": [
        "import math\n",
        "\n",
        "def g(x):\n",
        "    return 1.0/(1.0 + math.exp(x))\n",
        "\n",
        "N = 100000\n",
        "x = np.random.random(size=N)\n",
        "\n",
        "y = np.array([g(xval**2) for xval in x])\n",
        "s = np.sum(y) / N\n",
        "\n",
        "I = 3.0*s\n",
        "print(I)"
      ]
    }
  ],
  "metadata": {
    "kernelspec": {
      "display_name": "Python 3",
      "language": "python",
      "name": "python3"
    },
    "language_info": {
      "codemirror_mode": {
        "name": "ipython",
        "version": 3
      },
      "file_extension": ".py",
      "mimetype": "text/x-python",
      "name": "python",
      "nbconvert_exporter": "python",
      "pygments_lexer": "ipython3",
      "version": "3.8.5"
    },
    "colab": {
      "provenance": []
    }
  },
  "nbformat": 4,
  "nbformat_minor": 0
}